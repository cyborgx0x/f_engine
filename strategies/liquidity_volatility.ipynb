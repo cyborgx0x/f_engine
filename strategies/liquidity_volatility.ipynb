{
 "cells": [
  {
   "cell_type": "markdown",
   "metadata": {},
   "source": [
    "High liquidity and high volatility in the financial markets can have both positive and negative effects, impacting traders and investors in various ways. Here are some key effects of high liquidity and high volatility:\n",
    "\n",
    "## Effects of High Liquidity:\n",
    "\n",
    "- Tighter Bid-Ask Spreads: In highly liquid markets, the difference between the buying (bid) and selling (ask) prices tends to be smaller. This is advantageous for traders as it reduces transaction costs.\n",
    "\n",
    "- Ease of Execution: Traders can execute large orders more easily in liquid markets without significantly impacting prices. This is particularly important for institutional investors and large traders.\n",
    "\n",
    "- Price Efficiency: Liquid markets generally reflect information more efficiently, as there are numerous buyers and sellers continuously participating. Prices are more likely to accurately reflect the true value of assets.\n",
    "\n",
    "- Lower Slippage: Slippage, which is the difference between the expected price of a trade and the actual execution price, tends to be lower in liquid markets.\n",
    "\n",
    "## Effects of High Volatility:\n",
    "\n",
    "- Increased Trading Opportunities: Volatility creates price movements, presenting trading opportunities for both short-term and long-term traders. Traders may capitalize on price swings to generate profits.\n",
    "\n",
    "- Higher Profit Potential: Volatility can lead to larger price fluctuations, potentially resulting in higher profits for traders who correctly predict market direction.\n",
    "\n",
    "- Risk of Losses: While high volatility can offer profit opportunities, it also increases the risk of substantial losses. Prices can move rapidly in both directions, and traders need to manage risk effectively.\n",
    "\n",
    "- Challenges for Risk Management: High volatility can make it challenging to implement effective risk management strategies. Stop-loss orders may not guarantee protection during extreme market conditions.\n",
    "\n",
    "- Impact on Option Prices: Volatility is a crucial component in options pricing. Higher volatility generally leads to higher option premiums.\n",
    "\n",
    "It's important for traders and investors to adapt their strategies based on the prevailing market conditions. While high liquidity and volatility can offer opportunities, they also come with increased risks, and it's crucial to use risk management tools and stay informed about market dynamics. Additionally, individual risk tolerance and investment goals should guide decision-making in high-liquidity, high-volatility environments."
   ]
  },
  {
   "cell_type": "code",
   "execution_count": 4,
   "metadata": {},
   "outputs": [
    {
     "name": "stdout",
     "output_type": "stream",
     "text": [
      "Requirement already satisfied: ta in c:\\users\\khanh\\appdata\\local\\programs\\python\\python310\\lib\\site-packages (0.11.0)\n",
      "Requirement already satisfied: numpy in c:\\users\\khanh\\appdata\\local\\programs\\python\\python310\\lib\\site-packages (from ta) (1.24.1)\n",
      "Requirement already satisfied: pandas in c:\\users\\khanh\\appdata\\local\\programs\\python\\python310\\lib\\site-packages (from ta) (2.1.3)\n",
      "Requirement already satisfied: python-dateutil>=2.8.2 in c:\\users\\khanh\\appdata\\roaming\\python\\python310\\site-packages (from pandas->ta) (2.8.2)\n",
      "Requirement already satisfied: pytz>=2020.1 in c:\\users\\khanh\\appdata\\local\\programs\\python\\python310\\lib\\site-packages (from pandas->ta) (2023.3)\n",
      "Requirement already satisfied: tzdata>=2022.1 in c:\\users\\khanh\\appdata\\local\\programs\\python\\python310\\lib\\site-packages (from pandas->ta) (2023.3)\n",
      "Requirement already satisfied: six>=1.5 in c:\\users\\khanh\\appdata\\local\\programs\\python\\python310\\lib\\site-packages (from python-dateutil>=2.8.2->pandas->ta) (1.16.0)\n"
     ]
    }
   ],
   "source": [
    "!pip install ta"
   ]
  },
  {
   "cell_type": "code",
   "execution_count": 5,
   "metadata": {},
   "outputs": [],
   "source": [
    "import pandas as pd\n",
    "import ta"
   ]
  },
  {
   "cell_type": "code",
   "execution_count": 11,
   "metadata": {},
   "outputs": [],
   "source": [
    "import ta_py as ta;\n",
    "data = [1, 2, 3, 4, 5, 6, 10];\n",
    "length = 6; # default = 14\n",
    "a = ta.sma(data, length);\n",
    "# output (array)\n",
    "# [3.5, 5]"
   ]
  },
  {
   "cell_type": "code",
   "execution_count": 12,
   "metadata": {},
   "outputs": [
    {
     "data": {
      "text/plain": [
       "[3.5, 5.0]"
      ]
     },
     "execution_count": 12,
     "metadata": {},
     "output_type": "execute_result"
    }
   ],
   "source": [
    "a"
   ]
  },
  {
   "cell_type": "code",
   "execution_count": 9,
   "metadata": {},
   "outputs": [
    {
     "name": "stdout",
     "output_type": "stream",
     "text": [
      "    Open  High  Low  Close   Volume        ATR      Volume_MA  \\\n",
      "0    100   105   98    102   500000   0.000000       0.000000   \n",
      "1    102   108  100    105   600000   0.000000       0.000000   \n",
      "2     98   100   95     97   450000   0.000000       0.000000   \n",
      "3    105   109  101    108   700000   0.000000       0.000000   \n",
      "4    101   103   99    100   550000   0.000000       0.000000   \n",
      "5    110   115  105    112   800000   0.000000       0.000000   \n",
      "6    108   114  106    110   750000   0.000000       0.000000   \n",
      "7    112   120  110    115   900000   0.000000       0.000000   \n",
      "8    118   125  115    122   850000   0.000000       0.000000   \n",
      "9    120   130  118    118   950000   0.000000       0.000000   \n",
      "10   115   128  112    124   920000   0.000000       0.000000   \n",
      "11   122   135  120    130  1000000   0.000000       0.000000   \n",
      "12   125   140  122    132  1100000   0.000000       0.000000   \n",
      "13   130   138  125    136  1050000  11.642857  794285.714286   \n",
      "14   128   142  128    134  1200000  11.811224  844285.714286   \n",
      "15   132   145  130    138  1150000  12.038994  883571.428571   \n",
      "16   135   148  132    140  1300000  12.321923  944285.714286   \n",
      "\n",
      "    Liquidity_Volatility_Combined  \n",
      "0                        0.000000  \n",
      "1                        0.000000  \n",
      "2                        0.000000  \n",
      "3                        0.000000  \n",
      "4                        0.000000  \n",
      "5                        0.000000  \n",
      "6                        0.000000  \n",
      "7                        0.000000  \n",
      "8                        0.000000  \n",
      "9                        0.000000  \n",
      "10                       0.000000  \n",
      "11                       0.000000  \n",
      "12                       0.000000  \n",
      "13                   68220.858896  \n",
      "14                   71481.641469  \n",
      "15                   73392.462540  \n",
      "16                   76634.605025  \n"
     ]
    }
   ],
   "source": [
    "import pandas as pd\n",
    "import numpy as np\n",
    "import ta  # Assuming you have the ta (technical analysis) library installed\n",
    "\n",
    "data = {\n",
    "    'Open': [100, 102, 98, 105, 101, 110, 108, 112, 118, 120, 115, 122, 125, 130, 128, 132, 135],\n",
    "    'High': [105, 108, 100, 109, 103, 115, 114, 120, 125, 130, 128, 135, 140, 138, 142, 145, 148],\n",
    "    'Low': [98, 100, 95, 101, 99, 105, 106, 110, 115, 118, 112, 120, 122, 125, 128, 130, 132],\n",
    "    'Close': [102, 105, 97, 108, 100, 112, 110, 115, 122, 118, 124, 130, 132, 136, 134, 138, 140],\n",
    "    'Volume': [500000, 600000, 450000, 700000, 550000, 800000, 750000, 900000, 850000, 950000, 920000, 1000000, 1100000, 1050000, 1200000, 1150000, 1300000]\n",
    "}\n",
    "\n",
    "df = pd.DataFrame(data)\n",
    "\n",
    "# Calculate volatility using Average True Range (ATR)\n",
    "df['ATR'] = ta.volatility.average_true_range(df['High'], df['Low'], df['Close'], window=14)\n",
    "\n",
    "# Calculate a liquidity metric by computing the 14-day moving average of volume\n",
    "df['Volume_MA'] = df['Volume'].rolling(window=14).mean()\n",
    "\n",
    "# Combine liquidity and volatility into a new indicator, handle missing values with fillna(0) or other methods like backfill or interpolation\n",
    "df['Liquidity_Volatility_Combined'] = df['Volume_MA'] / df['ATR']\n",
    "df.fillna(0, inplace=True)  # Example case where missing values are filled with 0\n",
    "\n",
    "# Print the DataFrame with the new indicator\n",
    "print(df)"
   ]
  },
  {
   "cell_type": "markdown",
   "metadata": {},
   "source": [
    "# Flow\n",
    "\n",
    "- Compute the"
   ]
  },
  {
   "cell_type": "code",
   "execution_count": null,
   "metadata": {},
   "outputs": [],
   "source": []
  }
 ],
 "metadata": {
  "kernelspec": {
   "display_name": "Python 3",
   "language": "python",
   "name": "python3"
  },
  "language_info": {
   "codemirror_mode": {
    "name": "ipython",
    "version": 3
   },
   "file_extension": ".py",
   "mimetype": "text/x-python",
   "name": "python",
   "nbconvert_exporter": "python",
   "pygments_lexer": "ipython3",
   "version": "3.10.11"
  }
 },
 "nbformat": 4,
 "nbformat_minor": 2
}
