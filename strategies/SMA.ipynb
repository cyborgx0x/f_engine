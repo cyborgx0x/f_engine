{
  "cells": [
    {
      "cell_type": "code",
      "execution_count": null,
      "metadata": {
        "id": "HA_7sEU0Aw7l"
      },
      "outputs": [],
      "source": [
        "!pip install yfinance\n",
        "import pandas as pd\n",
        "import numpy as np\n",
        "import matplotlib.pyplot as plt\n",
        "plt.style.use(\"default\")\n",
        "%matplotlib inline\n",
        "import yfinance as yf"
      ]
    },
    {
      "cell_type": "code",
      "execution_count": null,
      "metadata": {
        "id": "DnyFTJTDEeeT"
      },
      "outputs": [],
      "source": [
        "class Symbol():\n",
        "  def __init__(self, dataframe):\n",
        "    self.data = dataframe\n",
        "    self.trans_data = self.transfer(self.data)\n",
        "    self.uptrend = False\n",
        "    self.downtrend = False\n",
        "    self.buy = False\n",
        "    self.sell = False\n",
        "    self.price = 0\n",
        "    self.trend(self.trans_data)\n",
        "  def transfer(self, dataframe):\n",
        "    f =  dataframe[\"Close\"].to_frame()\n",
        "    f[\"SMA30\"] = f[\"Close\"].rolling(30).mean()\n",
        "    f[\"SMA50\"] = f[\"Close\"].rolling(50).mean()\n",
        "    f[\"SMA100\"] = f[\"Close\"].rolling(100).mean()\n",
        "    f[\"SMA200\"] = f[\"Close\"].rolling(200).mean()\n",
        "    f.dropna(inplace = True)\n",
        "    return f\n",
        "  def trend(self, trans_data):\n",
        "    last_price = trans_data.tail(1)\n",
        "    self.uptrend = last_price[\"SMA50\"].item() > last_price[\"SMA100\"].item() and last_price[\"SMA100\"].item() > last_price[\"SMA200\"].item()\n",
        "    self.downtrend = last_price[\"SMA50\"].item() < last_price[\"SMA100\"].item() and last_price[\"SMA100\"].item() > last_price[\"SMA200\"].item()\n",
        "    self.price = last_price[\"Close\"].item()\n",
        "    self.buy = self.price > last_price[\"SMA200\"].item() and self.price < last_price[\"SMA50\"].item()\n",
        "    self.sell = self.price < last_price[\"SMA200\"].item() and self.price > last_price[\"SMA50\"].item()\n",
        "  def plot(self):\n",
        "    self.trans_data.plot()"
      ]
    },
    {
      "cell_type": "code",
      "execution_count": null,
      "metadata": {
        "id": "ItHoUZKm8qgr"
      },
      "outputs": [],
      "source": [
        "def main(symbol):\n",
        "  daily = yf.download(tickers = symbol, period = \"2Y\", interval = \"1D\")\n",
        "  daily\n",
        "  hour = yf.download(tickers = symbol, period = \"20D\", interval = \"60m\")\n",
        "  hour\n",
        "  fifteen = yf.download(tickers = symbol, period = \"5D\", interval = \"15m\")\n",
        "  fifteen\n",
        "  daily_dt = Symbol(daily)\n",
        "  hour_dt = Symbol(hour)\n",
        "  fif_dt = Symbol(fifteen)\n",
        "  buy =  daily_dt.uptrend and fif_dt.uptrend and fif_dt.buy\n",
        "  sell = daily_dt.downtrend and fif_dt.downtrend and fif_dt.sell\n",
        "  if buy:\n",
        "    return {\n",
        "        \"name\": symbol,\n",
        "        \"signal\": \"buy\",\n",
        "        \"price\": fif_dt.price,\n",
        "    }\n",
        "  elif sell:\n",
        "    return {\n",
        "        \"name\": symbol,\n",
        "        \"signal\": \"sell\",\n",
        "        \"price\": fif_dt.price,\n",
        "    }\n",
        "  else:\n",
        "    return {\n",
        "        \"name\": symbol,\n",
        "        \"signal\": \"none\",\n",
        "        \"price\": fif_dt.price,\n",
        "    }"
      ]
    },
    {
      "cell_type": "code",
      "execution_count": null,
      "metadata": {
        "id": "UOzud7hCD76S"
      },
      "outputs": [],
      "source": [
        "symbols_list = [\"GBPUSD=X\", \"EURUSD=X\", \"GC=F\", \"JPY=X\", \"AUDUSD=X\", \"NZDUSD=X\", \"EURJPY=X\",\"GBPJPY=X\", \"EURGBP=X\", \"EURCAD=X\"]"
      ]
    },
    {
      "cell_type": "code",
      "execution_count": null,
      "metadata": {
        "colab": {
          "base_uri": "https://localhost:8080/"
        },
        "id": "n4EkETy-FNgX",
        "outputId": "3343f81e-e0db-4ffe-b9d9-274029585f86"
      },
      "outputs": [],
      "source": [
        "import pandas as pd\n",
        "\n",
        "# Create an empty DataFrame\n",
        "df = pd.DataFrame()\n",
        "\n",
        "# Loop through the symbols list\n",
        "for s in symbols_list:\n",
        "  # Get the signal for the current symbol\n",
        "  signal = main(s)\n",
        "  # Add the signal to the DataFrame\n",
        "  df[s] = signal\n",
        "\n",
        "# Transpose the DataFrame to switch rows and columns\n",
        "df = df.transpose()\n",
        "\n",
        "# Print the DataFrame\n",
        "print(df)"
      ]
    },
    {
      "cell_type": "code",
      "execution_count": null,
      "metadata": {},
      "outputs": [],
      "source": [
        "!pip install flask pandas"
      ]
    },
    {
      "cell_type": "code",
      "execution_count": null,
      "metadata": {},
      "outputs": [],
      "source": [
        "from flask import Flask, render_template_string\n",
        "import pandas as pd\n",
        "\n",
        "app = Flask(__name__)\n",
        "\n",
        "@app.route('/')\n",
        "def show_dataframe():\n",
        "    # Assuming `dataframe` is your DataFrame\n",
        "    html_data = dataframe.to_html()\n",
        "    return render_template_string(\"<html><body>{{table|safe}}</body></html>\", table=html_data)\n",
        "\n",
        "if __name__ == \"__main__\":\n",
        "    app.run(debug=True)\n"
      ]
    },
    {
      "cell_type": "code",
      "execution_count": null,
      "metadata": {
        "colab": {
          "base_uri": "https://localhost:8080/"
        },
        "id": "E8UG22ijMPrB",
        "outputId": "b8ced1db-7871-4010-df7f-21cb6e379bdd"
      },
      "outputs": [],
      "source": [
        "full_m15 = yf.download(tickers = \"GC=F\", period = \"50D\", interval = \"15m\")"
      ]
    },
    {
      "cell_type": "code",
      "execution_count": null,
      "metadata": {
        "colab": {
          "base_uri": "https://localhost:8080/",
          "height": 923
        },
        "id": "0g1e6TKQMxkd",
        "outputId": "25fed3b0-a16f-42e1-df50-7afaf4378591"
      },
      "outputs": [],
      "source": [
        "full_m15"
      ]
    },
    {
      "cell_type": "code",
      "execution_count": null,
      "metadata": {
        "id": "wpbb9bthC9_y"
      },
      "outputs": [],
      "source": []
    },
    {
      "cell_type": "code",
      "execution_count": null,
      "metadata": {
        "cellView": "form",
        "colab": {
          "base_uri": "https://localhost:8080/",
          "height": 449
        },
        "id": "z7tSEJBFCbCq",
        "outputId": "bdc12539-444d-4364-9109-fc59609a9d04"
      },
      "outputs": [],
      "source": [
        "# @title High vs Low\n",
        "\n",
        "from matplotlib import pyplot as plt\n",
        "full_m15.plot(kind='scatter', x='High', y='Low', s=32, alpha=.8)\n",
        "plt.gca().spines[['top', 'right',]].set_visible(False)"
      ]
    },
    {
      "cell_type": "code",
      "execution_count": null,
      "metadata": {
        "id": "ovFX-_9tCNyz"
      },
      "outputs": [],
      "source": []
    },
    {
      "cell_type": "code",
      "execution_count": null,
      "metadata": {
        "colab": {
          "base_uri": "https://localhost:8080/"
        },
        "id": "SJFg_Gb3M0aW",
        "outputId": "d2e15717-7a57-494d-fd62-0c4ac2260366"
      },
      "outputs": [],
      "source": [
        "dir(full_m15)"
      ]
    }
  ],
  "metadata": {
    "colab": {
      "provenance": [],
      "toc_visible": true
    },
    "kernelspec": {
      "display_name": "Python 3",
      "name": "python3"
    },
    "language_info": {
      "codemirror_mode": {
        "name": "ipython",
        "version": 3
      },
      "file_extension": ".py",
      "mimetype": "text/x-python",
      "name": "python",
      "nbconvert_exporter": "python",
      "pygments_lexer": "ipython3",
      "version": "3.10.13"
    }
  },
  "nbformat": 4,
  "nbformat_minor": 0
}
